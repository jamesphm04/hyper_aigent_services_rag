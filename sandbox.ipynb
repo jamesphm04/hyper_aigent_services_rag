{
 "cells": [
  {
   "cell_type": "code",
   "execution_count": 1,
   "metadata": {},
   "outputs": [
    {
     "name": "stderr",
     "output_type": "stream",
     "text": [
      "/home/james/MyFolder/code/hyper_aigent/hyper_aigent_services_rag/.venv/lib/python3.12/site-packages/tqdm/auto.py:21: TqdmWarning: IProgress not found. Please update jupyter and ipywidgets. See https://ipywidgets.readthedocs.io/en/stable/user_install.html\n",
      "  from .autonotebook import tqdm as notebook_tqdm\n",
      "/home/james/MyFolder/code/hyper_aigent/hyper_aigent_services_rag/app/services/RAGService.py:23: LangChainDeprecationWarning: The class `OpenAIEmbeddings` was deprecated in LangChain 0.0.9 and will be removed in 1.0. An updated version of the class exists in the :class:`~langchain-openai package and should be used instead. To use it run `pip install -U :class:`~langchain-openai` and import as `from :class:`~langchain_openai import OpenAIEmbeddings``.\n",
      "  self.embeddings = OpenAIEmbeddings(model=\"text-embedding-3-large\", api_key=OPENAI_API_KEY)\n",
      "/home/james/MyFolder/code/hyper_aigent/hyper_aigent_services_rag/app/services/RAGService.py:28: LangChainPendingDeprecationWarning: This class is pending deprecation and may be removed in a future version. You can swap to using the `PGVector` implementation in `langchain_postgres`. Please read the guidelines in the doc-string of this class to follow prior to migrating as there are some differences between the implementations. See <https://github.com/langchain-ai/langchain-postgres> for details about the new implementation.\n",
      "  self.vector_store = PGVector(\n",
      "/home/james/MyFolder/code/hyper_aigent/hyper_aigent_services_rag/app/services/RAGService.py:28: LangChainPendingDeprecationWarning: Please use JSONB instead of JSON for metadata. This change will allow for more efficient querying that involves filtering based on metadata. Please note that filtering operators have been changed when using JSONB metadata to be prefixed with a $ sign to avoid name collisions with columns. If you're using an existing database, you will need to create a db migration for your metadata column to be JSONB and update your queries to use the new operators. \n",
      "  self.vector_store = PGVector(\n"
     ]
    }
   ],
   "source": [
    "from app.services.SQLService import SQLService\n",
    "from app.helpers.logger import Logger\n",
    "from app.services.RAGService import RAGService\n",
    "from app.services.FileService import FileService\n",
    "\n",
    "logger = Logger().get_logger()\n",
    "sql_service = SQLService(logger)\n",
    "\n",
    "rag_service = RAGService(logger, sql_service)\n",
    "file_service = FileService(logger, sql_service, rag_service)"
   ]
  },
  {
   "cell_type": "code",
   "execution_count": 2,
   "metadata": {},
   "outputs": [
    {
     "name": "stderr",
     "output_type": "stream",
     "text": [
      "2025-07-10 22:53:04,296 - INFO - Processing file with ID: 154\n",
      "2025-07-10 22:53:04,332 - INFO - File with ID 154 downloaded to /home/james/MyFolder/code/hyper_aigent/hyper_aigent_services_rag/downloads/154.pdf\n",
      "2025-07-10 22:53:04,333 - INFO - File downloaded: /home/james/MyFolder/code/hyper_aigent/hyper_aigent_services_rag/downloads/154.pdf, Name: attention_is_all_you_need.pdf\n",
      "2025-07-10 22:53:04,333 - INFO - Chunking file: /home/james/MyFolder/code/hyper_aigent/hyper_aigent_services_rag/downloads/154.pdf...\n",
      "The `max_size` parameter is deprecated and will be removed in v4.26. Please specify in `size['longest_edge'] instead`.\n",
      "2025-07-10 22:54:32,269 - INFO - Tables found: 0, Texts found: 12, Images found: 7\n",
      "2025-07-10 22:54:32,270 - INFO - Saving data to vector database...\n",
      "2025-07-10 22:54:32,271 - INFO - Summarizing tables and texts...\n",
      "2025-07-10 22:54:46,689 - INFO - Summarizing images...\n",
      "2025-07-10 22:55:01,521 - INFO - Saving documents to vector store...\n",
      "2025-07-10 22:55:10,977 - INFO - Documents saved to vector store.\n",
      "2025-07-10 22:55:10,979 - INFO - Saving 12 texts to the database.\n",
      "2025-07-10 22:55:11,073 - INFO - Saving 7 images to the database.\n"
     ]
    }
   ],
   "source": [
    "id = 154\n",
    "file_service.logger.info(f\"Processing file with ID: {id}\")\n",
    "result = file_service.prepare_data_for_rag(id)"
   ]
  }
 ],
 "metadata": {
  "kernelspec": {
   "display_name": ".venv",
   "language": "python",
   "name": "python3"
  },
  "language_info": {
   "codemirror_mode": {
    "name": "ipython",
    "version": 3
   },
   "file_extension": ".py",
   "mimetype": "text/x-python",
   "name": "python",
   "nbconvert_exporter": "python",
   "pygments_lexer": "ipython3",
   "version": "3.12.3"
  }
 },
 "nbformat": 4,
 "nbformat_minor": 2
}
