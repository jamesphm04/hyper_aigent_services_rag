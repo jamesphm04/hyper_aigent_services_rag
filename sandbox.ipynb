{
 "cells": [
  {
   "cell_type": "code",
   "execution_count": 1,
   "metadata": {},
   "outputs": [
    {
     "name": "stderr",
     "output_type": "stream",
     "text": [
      "/home/james/MyFolder/code/hyper_aigent/hyper_aigent_services_rag/.venv/lib/python3.12/site-packages/tqdm/auto.py:21: TqdmWarning: IProgress not found. Please update jupyter and ipywidgets. See https://ipywidgets.readthedocs.io/en/stable/user_install.html\n",
      "  from .autonotebook import tqdm as notebook_tqdm\n"
     ]
    },
    {
     "name": "stdout",
     "output_type": "stream",
     "text": [
      "Database config: {'dbname': 'hyper_aigent_spread_sheet_db', 'user': 'postgres', 'password': '12341234', 'host': 'localhost', 'port': 5432}\n",
      "Vector database config: {'dbname': 'vector_db', 'user': 'postgres', 'password': '12341234', 'host': 'localhost', 'port': 5432}\n"
     ]
    }
   ],
   "source": [
    "from celery import Celery\n",
    "from app.services.SQLService import SQLService\n",
    "from app.services.RAGService import RAGService\n",
    "from app.services.FileService import FileService\n",
    "from app.helpers.logger import Logger\n",
    "\n",
    "logger = Logger().get_logger()\n",
    "sql_service = SQLService(logger)"
   ]
  },
  {
   "cell_type": "code",
   "execution_count": 4,
   "metadata": {},
   "outputs": [
    {
     "name": "stdout",
     "output_type": "stream",
     "text": [
      "public.langchain_pg_collection\n",
      "public.langchain_pg_embedding\n"
     ]
    }
   ],
   "source": [
    "import psycopg2\n",
    "\n",
    "def list_tables(db_config):\n",
    "    try:\n",
    "        with psycopg2.connect(**db_config) as conn:\n",
    "            with conn.cursor() as cur:\n",
    "                cur.execute(\"\"\"\n",
    "                    SELECT schemaname, tablename\n",
    "                    FROM pg_catalog.pg_tables\n",
    "                    WHERE schemaname NOT IN ('pg_catalog', 'information_schema');\n",
    "                \"\"\")\n",
    "                tables = cur.fetchall()\n",
    "                for schema, table in tables:\n",
    "                    print(f\"{schema}.{table}\")\n",
    "    except Exception as e:\n",
    "        print(f\"Error listing tables: {e}\")\n",
    "\n",
    "\n",
    "\n",
    "list_tables(sql_service.vector_db_config)\n"
   ]
  }
 ],
 "metadata": {
  "kernelspec": {
   "display_name": ".venv",
   "language": "python",
   "name": "python3"
  },
  "language_info": {
   "codemirror_mode": {
    "name": "ipython",
    "version": 3
   },
   "file_extension": ".py",
   "mimetype": "text/x-python",
   "name": "python",
   "nbconvert_exporter": "python",
   "pygments_lexer": "ipython3",
   "version": "3.12.3"
  }
 },
 "nbformat": 4,
 "nbformat_minor": 2
}
