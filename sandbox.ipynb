{
 "cells": [
  {
   "cell_type": "code",
   "execution_count": 1,
   "metadata": {},
   "outputs": [],
   "source": [
    "from app.services.SQLService import SQLService\n",
    "from app.helpers.logger import Logger\n",
    "\n",
    "logger = Logger().get_logger()\n",
    "sql_service = SQLService(logger) "
   ]
  },
  {
   "cell_type": "code",
   "execution_count": 2,
   "metadata": {},
   "outputs": [
    {
     "name": "stderr",
     "output_type": "stream",
     "text": [
      "2025-06-28 12:15:11,584 - INFO - Temporary DOCX file created at: /tmp/tmpcfbj36_l.docx\n"
     ]
    },
    {
     "name": "stdout",
     "output_type": "stream",
     "text": [
      "convert /tmp/tmpcfbj36_l.docx as a Draw document -> /tmp/tmpcfbj36_l.pdf using filter : draw_pdf_Export\n"
     ]
    },
    {
     "data": {
      "text/plain": [
       "172476"
      ]
     },
     "execution_count": 2,
     "metadata": {},
     "output_type": "execute_result"
    }
   ],
   "source": [
    "sql_service.convert_to_pdf(153)"
   ]
  },
  {
   "cell_type": "code",
   "execution_count": 4,
   "metadata": {},
   "outputs": [
    {
     "name": "stderr",
     "output_type": "stream",
     "text": [
      "2025-06-28 12:15:27,374 - INFO - File with ID 153 downloaded to /home/james/MyFolder/code/hyper_aigent/hyper_aigent_services_rag/downloads/INVOICE NO. 44250623023.docx.pdf\n"
     ]
    },
    {
     "data": {
      "text/plain": [
       "'/home/james/MyFolder/code/hyper_aigent/hyper_aigent_services_rag/downloads/INVOICE NO. 44250623023.docx.pdf'"
      ]
     },
     "execution_count": 4,
     "metadata": {},
     "output_type": "execute_result"
    }
   ],
   "source": [
    "sql_service.download_file_by_id(153)\n"
   ]
  },
  {
   "cell_type": "code",
   "execution_count": null,
   "metadata": {},
   "outputs": [],
   "source": []
  }
 ],
 "metadata": {
  "kernelspec": {
   "display_name": ".venv",
   "language": "python",
   "name": "python3"
  },
  "language_info": {
   "codemirror_mode": {
    "name": "ipython",
    "version": 3
   },
   "file_extension": ".py",
   "mimetype": "text/x-python",
   "name": "python",
   "nbconvert_exporter": "python",
   "pygments_lexer": "ipython3",
   "version": "3.12.3"
  }
 },
 "nbformat": 4,
 "nbformat_minor": 2
}
